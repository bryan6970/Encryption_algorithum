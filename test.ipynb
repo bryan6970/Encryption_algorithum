{
 "cells": [
  {
   "cell_type": "code",
   "execution_count": 2,
   "metadata": {
    "collapsed": true
   },
   "outputs": [
    {
     "data": {
      "text/plain": "'hello\\\\nworld'"
     },
     "execution_count": 2,
     "metadata": {},
     "output_type": "execute_result"
    }
   ],
   "source": [
    "value = input()\n",
    "value"
   ]
  },
  {
   "cell_type": "code",
   "execution_count": 12,
   "outputs": [],
   "source": [
    "input_str = input()\n",
    "input_str"
   ],
   "metadata": {
    "collapsed": false
   }
  },
  {
   "cell_type": "code",
   "execution_count": 13,
   "outputs": [
    {
     "name": "stdout",
     "output_type": "stream",
     "text": [
      "'hello\\\\nworld'\n",
      "\\\\\n",
      "\\\n",
      "'hello\\\\nworld'\n",
      "hello\\nworld\n",
      "'hello\\\\nworld'\n",
      "'hello\\\\nworld'\n"
     ]
    }
   ],
   "source": [
    "value = \"hello\\\\nworld\"\n",
    "value.encode()\n",
    "a = r\"\\\\\"\n",
    "b = \"\\\\\"\n",
    "print(repr(value))\n",
    "print(a)\n",
    "print(b)\n",
    "value.replace(a,b )\n",
    "print(repr(value))\n",
    "\n",
    "print(value)\n",
    "value = repr(value)\n",
    "print(value)\n",
    "value.replace(\"e\",\"a\")\n",
    "print(value)"
   ],
   "metadata": {
    "collapsed": false
   }
  },
  {
   "cell_type": "code",
   "execution_count": 11,
   "outputs": [
    {
     "name": "stdout",
     "output_type": "stream",
     "text": [
      "'hello\\\\nworld'\n"
     ]
    }
   ],
   "source": [
    "print(value)"
   ],
   "metadata": {
    "collapsed": false
   }
  },
  {
   "cell_type": "code",
   "execution_count": 6,
   "outputs": [
    {
     "name": "stdout",
     "output_type": "stream",
     "text": [
      "b'\\\\\\\\xa6'\n"
     ]
    }
   ],
   "source": [
    "print(value.encode())"
   ],
   "metadata": {
    "collapsed": false
   }
  },
  {
   "cell_type": "code",
   "execution_count": 7,
   "outputs": [
    {
     "name": "stdout",
     "output_type": "stream",
     "text": [
      "'\\\\\\\\xa6'\n"
     ]
    }
   ],
   "source": [
    "print(repr(value))"
   ],
   "metadata": {
    "collapsed": false
   }
  },
  {
   "cell_type": "code",
   "execution_count": 15,
   "outputs": [],
   "source": [
    "decoded_str = input_str.encode().decode('unicode_escape').encode()\n"
   ],
   "metadata": {
    "collapsed": false
   }
  },
  {
   "cell_type": "code",
   "execution_count": 16,
   "outputs": [
    {
     "data": {
      "text/plain": "b'hello\\nworld'"
     },
     "execution_count": 16,
     "metadata": {},
     "output_type": "execute_result"
    }
   ],
   "source": [
    "decoded_str"
   ],
   "metadata": {
    "collapsed": false
   }
  },
  {
   "cell_type": "code",
   "execution_count": null,
   "outputs": [],
   "source": [],
   "metadata": {
    "collapsed": false
   }
  },
  {
   "cell_type": "code",
   "execution_count": 15,
   "outputs": [
    {
     "name": "stdout",
     "output_type": "stream",
     "text": [
      "b\"\\x95\\xfb\\xc9S\\xa1\\xef\\x1d\\\\\\x9b{B\\xab\\x1f5\\xa7\\x18\\xcec\\x80\\x89P\\xa3:\\x96\\x9d\\xb1\\xda\\xaa\\x0cg\\xaa~\\xd8\\xc5\\x8c!\\x06$(0\\x8b\\xbb\\xb8\\xed\\x16\\x8ez\\xdd\\xea\\x00\\xc0\\x10u\\xad\\xefg2\\xe8{mX\\xfbD\\xc4\\xad\\xdbc\\x97\\xfb'\\x01\\x98\\xee\\xeb\\\\\\xc0;\\x03R\\xf1n\\xba\\x90\\xc3\\xc2\\x17\\x1a\\x85m\\xdeh\\x98}k\\xe0\\xe4\\x13+\\x97c$T1\\xeb\\x06{XO#\\x0b\\xc8\\x86q\\x1a?\\xe5\\x03\\x85\\x19f}\\x1c\\xfcCD\\x9cdY\\x02tU\\xb2\\xfb\\xf1\\xa9\\xc7\\x9a0\\xb1\\xc7-\\t\\xfe\\xe5\\x91\\x8d\\x0b\\xf7\\x7f\\xa4\\xb3\\xf3*\\xaf\\xb5?\\n}?\\x1aYU\\xf9h\\xf1\\xd9\\x90\\xb3\\xab7S0\\xbc\\xe1\\xd4\\x8c\\x92\\n\\x0bA\\x8bX%1\\x85\\xd0\\xd9>\\x95\\x02\\x89O\\xe2\\xe6\\xca\\x95\\xae\\xd7r\\xfda\\xa7\\x85A\\xa4\\xb5\\xbb\\xe21^VC\\xb3\\xf4i\\x9d\\x16\\x92\\x8f\\xc3\\xcfU\\xd7X Z\\xe2&\\xc3\\xa5\\xe3\\xdc\\xcd6\\xb1\\x93\\x86s'(\\xbdP\\xda\\x04\\x98T\\x87\\x12\\xad\\x9fX\\x99 \\x9cd\\x8e\"\n",
      "Contents do not match.\n"
     ]
    }
   ],
   "source": [],
   "metadata": {
    "collapsed": false
   }
  },
  {
   "cell_type": "code",
   "execution_count": null,
   "outputs": [],
   "source": [],
   "metadata": {
    "collapsed": false,
    "pycharm": {
     "is_executing": true
    }
   }
  },
  {
   "cell_type": "code",
   "execution_count": 14,
   "outputs": [],
   "source": [],
   "metadata": {
    "collapsed": false
   }
  }
 ],
 "metadata": {
  "kernelspec": {
   "display_name": "Python 3",
   "language": "python",
   "name": "python3"
  },
  "language_info": {
   "codemirror_mode": {
    "name": "ipython",
    "version": 2
   },
   "file_extension": ".py",
   "mimetype": "text/x-python",
   "name": "python",
   "nbconvert_exporter": "python",
   "pygments_lexer": "ipython2",
   "version": "2.7.6"
  }
 },
 "nbformat": 4,
 "nbformat_minor": 0
}
